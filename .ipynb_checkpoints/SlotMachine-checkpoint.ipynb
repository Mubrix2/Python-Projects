{
 "cells": [
  {
   "cell_type": "code",
   "execution_count": 1,
   "id": "f255808b-a5df-4445-8ded-464b46887aaa",
   "metadata": {},
   "outputs": [
    {
     "name": "stdout",
     "output_type": "stream",
     "text": [
      "************************************\n",
      "----Welcome to slot machine game----\n",
      "-----Symbols: 🍒 🍉 🍋 🔔 🔆------\n",
      "************************************\n"
     ]
    },
    {
     "name": "stdin",
     "output_type": "stream",
     "text": [
      "Enter a bet amount:  300\n"
     ]
    },
    {
     "name": "stdout",
     "output_type": "stream",
     "text": [
      "Invalid bet amount\n"
     ]
    },
    {
     "name": "stdin",
     "output_type": "stream",
     "text": [
      "enter bet amount:  200\n"
     ]
    },
    {
     "name": "stdout",
     "output_type": "stream",
     "text": [
      "Invalid bet amount\n"
     ]
    },
    {
     "name": "stdin",
     "output_type": "stream",
     "text": [
      "enter bet amount:  1\n"
     ]
    },
    {
     "name": "stdout",
     "output_type": "stream",
     "text": [
      "*****************\n",
      "🔔 | 🍉 | 🔔\n",
      "*****************\n",
      "You've lost this round\n",
      "Your current balance is 99\n"
     ]
    },
    {
     "name": "stdin",
     "output_type": "stream",
     "text": [
      "Do you want to play again(y or n)?:  y\n"
     ]
    },
    {
     "name": "stdout",
     "output_type": "stream",
     "text": [
      "************************************\n",
      "----Welcome to slot machine game----\n",
      "-----Symbols: 🍒 🍉 🍋 🔔 🔆------\n",
      "************************************\n"
     ]
    },
    {
     "name": "stdin",
     "output_type": "stream",
     "text": [
      "Enter a bet amount:  20\n"
     ]
    },
    {
     "name": "stdout",
     "output_type": "stream",
     "text": [
      "*****************\n",
      "🍋 | 🍋 | 🍉\n",
      "*****************\n",
      "You've lost this round\n",
      "Your current balance is 79\n"
     ]
    },
    {
     "name": "stdin",
     "output_type": "stream",
     "text": [
      "Do you want to play again(y or n)?:  2\n"
     ]
    },
    {
     "name": "stdout",
     "output_type": "stream",
     "text": [
      "Your current balance is 79\n",
      "Thank you for playing.\n",
      " Your overall balance is 79\n"
     ]
    }
   ],
   "source": [
    "import random\n",
    "\n",
    "class Slot:\n",
    "        choices = [\"🍒\", \"🍉\", \"🍋\", \"🔔\", \"🔆\"]\n",
    "        def __init__(self, balance, bet):\n",
    "            self.result = []\n",
    "            self.balance = 100\n",
    "            self.bet = bet\n",
    "\n",
    "        def spin_row(self):\n",
    "            self.result = [random.choice(Slot.choices) for _ in range(3)]\n",
    "            self.print_row()\n",
    "\n",
    "        def print_row(self):\n",
    "            print(\"*****************\")\n",
    "            print(\" | \".join(self.result))\n",
    "            print(\"*****************\")\n",
    "            self.get_payout()\n",
    "\n",
    "        def get_payout(self):\n",
    "            win_amount = 0\n",
    "            if self.result[0] == self.result[1] == self.result[2]:\n",
    "                if self.result[0] == \"🍒\":\n",
    "                  win_amount = self.bet * 3\n",
    "                elif self.result[0] ==  \"🍉\":\n",
    "                  win_amount = self.bet * 5\n",
    "                elif self.result[0] ==  \"🍋\":\n",
    "                  win_amount =  self.bet * 7\n",
    "                elif self.result[0] ==  \"🔔\":\n",
    "                    win_amount =  self.bet * 10\n",
    "                elif self.result[0] == \"🔆\":\n",
    "                    win_amount = self.bet * 12\n",
    "            else:\n",
    "              self.balance-=self.bet\n",
    "            if win_amount<=0:\n",
    "              print(\"You've lost this round\")\n",
    "\n",
    "            self.add_to_balance(win_amount)\n",
    "\n",
    "        def get_balance(self):\n",
    "            print(f\"Your current balance is {self.balance}\")\n",
    "            return self.balance\n",
    "\n",
    "        def get_bet(self):\n",
    "            return self.bet\n",
    "\n",
    "        def add_to_balance(self,payout):\n",
    "            self.balance += payout\n",
    "            self.get_balance()\n",
    "            choice = input(\"Do you want to play again(y or n)?: \")\n",
    "            if (choice.upper()!=\"Y\"):\n",
    "              print(f\"Thank you for playing.\\n Your overall balance is {self.get_balance()}\")\n",
    "              return\n",
    "            self.play_bet()\n",
    "\n",
    "\n",
    "\n",
    "        def play_bet(self):\n",
    "          try:\n",
    "            print(\"************************************\")\n",
    "            print(\"----Welcome to slot machine game----\")\n",
    "            print(\"-----Symbols: 🍒 🍉 🍋 🔔 🔆------\")\n",
    "            print(\"************************************\")\n",
    "            self.bet = int(input(\"Enter a bet amount: \"))\n",
    "\n",
    "            while self.bet > self.balance or self.bet < 0:\n",
    "                print(\"Invalid bet amount\")\n",
    "                self.bet = int(input(\"enter bet amount: \"))\n",
    "            self.spin_row()\n",
    "\n",
    "\n",
    "          except Exception as e:\n",
    "            print(f\"Error {e}\")\n",
    "\n",
    "slot1 = Slot(100, 0)\n",
    "\n",
    "if __name__ == \"__main__\":\n",
    "        slot1.play_bet()\n",
    "\n"
   ]
  },
  {
   "cell_type": "code",
   "execution_count": null,
   "id": "8ae1e536-8809-4717-a406-676de05437a6",
   "metadata": {},
   "outputs": [],
   "source": []
  }
 ],
 "metadata": {
  "kernelspec": {
   "display_name": "Python 3 (ipykernel)",
   "language": "python",
   "name": "python3"
  },
  "language_info": {
   "codemirror_mode": {
    "name": "ipython",
    "version": 3
   },
   "file_extension": ".py",
   "mimetype": "text/x-python",
   "name": "python",
   "nbconvert_exporter": "python",
   "pygments_lexer": "ipython3",
   "version": "3.12.4"
  }
 },
 "nbformat": 4,
 "nbformat_minor": 5
}
