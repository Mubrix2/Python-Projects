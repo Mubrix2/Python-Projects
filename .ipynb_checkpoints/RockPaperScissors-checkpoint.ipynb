{
 "cells": [
  {
   "cell_type": "code",
   "execution_count": 1,
   "id": "9f05fdc3-9abb-4702-9f43-bbec471b40c0",
   "metadata": {},
   "outputs": [
    {
     "name": "stdin",
     "output_type": "stream",
     "text": [
      "Choose between (r, p, s):  p\n"
     ]
    },
    {
     "name": "stdout",
     "output_type": "stream",
     "text": [
      "You choose 📄\n",
      "Computer choose ✂\n"
     ]
    },
    {
     "name": "stdin",
     "output_type": "stream",
     "text": [
      "Choose between (r, p, s):  s\n"
     ]
    },
    {
     "name": "stdout",
     "output_type": "stream",
     "text": [
      "You choose ✂\n",
      "Computer choose 💎\n",
      "You won!\n"
     ]
    },
    {
     "name": "stdin",
     "output_type": "stream",
     "text": [
      "Do you wish to play again(Y/N):  y\n",
      "Choose between (r, p, s):  r\n"
     ]
    },
    {
     "name": "stdout",
     "output_type": "stream",
     "text": [
      "You choose 💎\n",
      "Computer choose ✂\n"
     ]
    },
    {
     "name": "stdin",
     "output_type": "stream",
     "text": [
      "Choose between (r, p, s):  r\n"
     ]
    },
    {
     "name": "stdout",
     "output_type": "stream",
     "text": [
      "You choose 💎\n",
      "Computer choose 📄\n",
      "You won!\n"
     ]
    },
    {
     "name": "stdin",
     "output_type": "stream",
     "text": [
      "Do you wish to play again(Y/N):  n\n"
     ]
    },
    {
     "name": "stdout",
     "output_type": "stream",
     "text": [
      "Thanks for playing!\n"
     ]
    }
   ],
   "source": [
    "import random\n",
    "\n",
    "class RPS:\n",
    "    emojis = {\"r\": \"💎\", \"p\": \"📄\", \"s\": \"✂\"}\n",
    "    choices = [\"r\", \"p\", \"s\"]\n",
    "    def __init__(self):\n",
    "        pass\n",
    "\n",
    "    def player_choice(self):\n",
    "        player = input(\"Choose between (r, p, s): \")\n",
    "        while player not in RPS.choices:\n",
    "            print(\"Please enter a valid choice\")\n",
    "            player = input(\"Choose between (r, p, s): \")\n",
    "        else:\n",
    "            print(f\"You choose {RPS.emojis[player]}\")\n",
    "        return player\n",
    "            \n",
    "        \n",
    "    def computer_choice(self):\n",
    "        computer = random.choice(RPS.choices)\n",
    "        print(f\"Computer choose {RPS.emojis[computer]}\")\n",
    "        return computer\n",
    "        \n",
    "    def win_condition(self):\n",
    "        player = self.player_choice()\n",
    "        computer = self.computer_choice()\n",
    "        \n",
    "        if player == computer:\n",
    "            print(\"It's a tie\")\n",
    "        elif ((player == \"r\" and computer == \"s\") or \n",
    "              (player == \"r\" and computer == \"p\") or\n",
    "              (player == \"s\" and computer == \"p\") or \n",
    "              (player == \"s\" and computer == \"r\") or \n",
    "              (player == \"p\" and computer == \"s\") or \n",
    "              (player == \"p\" and computer == \"r\")):\n",
    "            print(\"You won!\")\n",
    "        else:\n",
    "            print(\"You lost!\")\n",
    "\n",
    "    \n",
    "    def play_game(self):\n",
    "        self.player_choice()\n",
    "        self.computer_choice()\n",
    "        self.win_condition()\n",
    "        \n",
    "        play_again = input(\"Do you wish to play again(Y/N): \").upper()\n",
    "\n",
    "        if play_again != \"Y\":\n",
    "            print(\"Thanks for playing!\")\n",
    "        else:\n",
    "            self.play_game()\n",
    "        \n",
    "\n",
    "rps = RPS()\n",
    "\n",
    "if __name__ == \"__main__\":\n",
    "    rps.play_game()"
   ]
  },
  {
   "cell_type": "code",
   "execution_count": null,
   "id": "a0fa90a1-d15f-4fd3-95ac-880993039d6f",
   "metadata": {},
   "outputs": [],
   "source": []
  }
 ],
 "metadata": {
  "kernelspec": {
   "display_name": "Python 3 (ipykernel)",
   "language": "python",
   "name": "python3"
  },
  "language_info": {
   "codemirror_mode": {
    "name": "ipython",
    "version": 3
   },
   "file_extension": ".py",
   "mimetype": "text/x-python",
   "name": "python",
   "nbconvert_exporter": "python",
   "pygments_lexer": "ipython3",
   "version": "3.12.4"
  }
 },
 "nbformat": 4,
 "nbformat_minor": 5
}
